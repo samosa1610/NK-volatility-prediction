{
 "cells": [
  {
   "cell_type": "markdown",
   "id": "a8760707",
   "metadata": {},
   "source": [
    "<h1>Importing Libraries</h1>"
   ]
  },
  {
   "cell_type": "code",
   "execution_count": 1,
   "id": "37c8f33d",
   "metadata": {},
   "outputs": [],
   "source": [
    "import pandas as pd\n",
    "import numpy as np\n",
    "from sklearn.model_selection import train_test_split"
   ]
  },
  {
   "cell_type": "markdown",
   "id": "8708ab07",
   "metadata": {},
   "source": [
    "<h1>Loading data</h1>"
   ]
  },
  {
   "cell_type": "code",
   "execution_count": 3,
   "id": "9e98884f",
   "metadata": {},
   "outputs": [],
   "source": [
    "# Load data\n",
    "train = pd.read_parquet('../train.parquet')\n",
    "test = pd.read_parquet('../test.parquet')\n",
    "sample_sub = pd.read_csv('../sample_submission.csv')"
   ]
  },
  {
   "cell_type": "markdown",
   "id": "b202cebd",
   "metadata": {},
   "source": [
    "<h1>Precomputations</h1>"
   ]
  },
  {
   "cell_type": "code",
   "execution_count": 4,
   "metadata": {},
   "outputs": [],
   "source": [
    "# Get all IV columns from TEST data\n",
    "iv_columns = [col for col in test.columns if col.startswith(('call_iv_', 'put_iv_'))]\n",
    "\n",
    "# Create strike dictionary from TEST columns\n",
    "strike_dict = {}\n",
    "for col in iv_columns:\n",
    "    strike = col.split('_')[-1]\n",
    "    if strike not in strike_dict:\n",
    "        strike_dict[strike] = {'call': None, 'put': None}\n",
    "    \n",
    "    if col.startswith('call_iv_'):\n",
    "        strike_dict[strike]['call'] = col\n",
    "    else:\n",
    "        strike_dict[strike]['put'] = col\n",
    "\n",
    "# Pre-calculate global means from training data\n",
    "global_means = {}\n",
    "for col in iv_columns:\n",
    "    if col in train.columns:\n",
    "        global_means[col] = train[col].mean()\n",
    "overall_mean = np.mean(list(global_means.values())) if global_means else 0.2"
   ]
  },
  {
   "cell_type": "markdown",
   "id": "11c69327",
   "metadata": {},
   "source": [
    "<h1>Prediction function</h1>"
   ]
  },
  {
   "cell_type": "code",
   "execution_count": 5,
   "id": "0cabfd7c",
   "metadata": {},
   "outputs": [],
   "source": [
    "def predict_iv(data):\n",
    "    data = data.copy()\n",
    "    \n",
    "    # Phase 1: Strict put-call parity\n",
    "    for strike, cols in strike_dict.items():\n",
    "        call_col = cols['call']\n",
    "        put_col = cols['put']\n",
    "        \n",
    "        if call_col in data.columns and put_col in data.columns:\n",
    "            # Fill calls using puts where possible\n",
    "            call_mask = data[call_col].isna() & data[put_col].notna()\n",
    "            data.loc[call_mask, call_col] = data.loc[call_mask, put_col]\n",
    "            \n",
    "            # Fill puts using calls where possible\n",
    "            put_mask = data[put_col].isna() & data[call_col].notna()\n",
    "            data.loc[put_mask, put_col] = data.loc[put_mask, call_col]\n",
    "    \n",
    "    # Phase 2: Row-wise mean imputation\n",
    "    for idx, row in data.iterrows():\n",
    "        # Collect all available IV values in this row\n",
    "        available_ivs = []\n",
    "        for col in iv_columns:\n",
    "            if col in row and not pd.isna(row[col]):\n",
    "                available_ivs.append(row[col])\n",
    "        \n",
    "        if available_ivs:\n",
    "            row_mean = np.mean(available_ivs)\n",
    "        else:\n",
    "            row_mean = overall_mean\n",
    "            \n",
    "        # Apply row mean to all missing IVs in this row\n",
    "        for col in iv_columns:\n",
    "            if col in data.columns and pd.isna(data.at[idx, col]):\n",
    "                data.at[idx, col] = row_mean\n",
    "    \n",
    "    return data"
   ]
  },
  {
   "cell_type": "markdown",
   "id": "2818cf6a",
   "metadata": {},
   "source": [
    "<h1>Validation Score</h1>"
   ]
  },
  {
   "cell_type": "code",
   "execution_count": 6,
   "id": "1e1d0f93",
   "metadata": {},
   "outputs": [
    {
     "name": "stdout",
     "output_type": "stream",
     "text": [
      "Validation MSE (masked points only): 0.000000000000\n"
     ]
    }
   ],
   "source": [
    "# Create validation split\n",
    "train_df, val_df = train_test_split(train, test_size=0.2, random_state=42)\n",
    "\n",
    "# Apply to validation set\n",
    "val_pred = predict_iv(val_df)\n",
    "\n",
    "# Calculate MSE only on originally masked validation points\n",
    "mse_vals = []\n",
    "for col in iv_columns:\n",
    "    if col in val_df.columns and col in val_pred.columns:\n",
    "        # Focus only on points that were originally missing\n",
    "        mask = val_df[col].isna() & val_pred[col].notna()\n",
    "        if mask.any():\n",
    "            se = (val_df.loc[mask, col] - val_pred.loc[mask, col]) ** 2\n",
    "            mse_vals.append(se.mean())\n",
    "\n",
    "validation_mse = np.mean(mse_vals) if mse_vals else 0\n",
    "print(f\"Validation MSE (masked points only): {validation_mse:.12f}\")"
   ]
  },
  {
   "cell_type": "markdown",
   "id": "11eb39d4",
   "metadata": {},
   "source": [
    "<h1>Test Data Prediction</h1>"
   ]
  },
  {
   "cell_type": "code",
   "execution_count": 8,
   "id": "15c64990",
   "metadata": {},
   "outputs": [],
   "source": [
    "# Apply to test set\n",
    "test_pred = predict_iv(test)"
   ]
  },
  {
   "cell_type": "markdown",
   "id": "bb9b65fd",
   "metadata": {},
   "source": [
    "<h1>Submission</h1>"
   ]
  },
  {
   "cell_type": "code",
   "execution_count": 9,
   "id": "414bed1c",
   "metadata": {},
   "outputs": [
    {
     "name": "stdout",
     "output_type": "stream",
     "text": [
      "\n",
      "Final Submission Preview:\n",
      "   timestamp  call_iv_24000  call_iv_24100  call_iv_24200  call_iv_24300  \\\n",
      "0          0       0.280939       0.280528       0.280528       0.280528   \n",
      "1          1       0.270276       0.293367       0.258893       0.293367   \n",
      "2          2       0.225231       0.251731       0.225231       0.225231   \n",
      "3          3       0.241888       0.227331       0.220505       0.210733   \n",
      "4          4       0.235328       0.208597       0.222983       0.214126   \n",
      "\n",
      "   call_iv_24400  call_iv_24500  call_iv_24600  call_iv_24700  call_iv_24800  \\\n",
      "0       0.242149       0.280528       0.232439       0.280528       0.222997   \n",
      "1       0.244875       0.293367       0.233548       0.228209       0.293367   \n",
      "2       0.214869       0.204580       0.194604       0.188052       0.225231   \n",
      "3       0.198602       0.186190       0.227331       0.166394       0.161561   \n",
      "4       0.208597       0.199485       0.192603       0.208597       0.208597   \n",
      "\n",
      "   ...  put_iv_24600  put_iv_24700  put_iv_24800  put_iv_24900  put_iv_25000  \\\n",
      "0  ...      0.232334      0.280528      0.222997      0.227301      0.234169   \n",
      "1  ...      0.233548      0.228209      0.293367      0.229917      0.293367   \n",
      "2  ...      0.194612      0.188052      0.225231      0.180668      0.181346   \n",
      "3  ...      0.227331      0.166394      0.161561      0.227331      0.227331   \n",
      "4  ...      0.192603      0.208597      0.208597      0.177920      0.208597   \n",
      "\n",
      "   put_iv_25100  put_iv_25200  put_iv_25300  put_iv_25400  put_iv_25500  \n",
      "0      0.245304      0.250422      0.280528      0.280528      0.282229  \n",
      "1      0.249402      0.257819      0.293367      0.293367      0.284057  \n",
      "2      0.185130      0.190750      0.197133      0.225231      0.225231  \n",
      "3      0.172032      0.181429      0.227331      0.227331      0.206107  \n",
      "4      0.176000      0.177836      0.178878      0.182314      0.188761  \n",
      "\n",
      "[5 rows x 53 columns]\n",
      "\n",
      "Submission shape: (12065, 53)\n",
      "Validation MSE: 0.000000000000\n"
     ]
    }
   ],
   "source": [
    "# Prepare submission\n",
    "submission = test_pred[['timestamp'] + iv_columns].copy()\n",
    "submission.columns = sample_sub.columns\n",
    "\n",
    "# Verify no missing values\n",
    "assert submission.isna().sum().sum() == 0, \"Missing values detected\"\n",
    "submission.to_csv('submission.csv', index=False)\n",
    "\n",
    "print(\"\\nFinal Submission Preview:\")\n",
    "print(submission.head())\n",
    "print(f\"\\nSubmission shape: {submission.shape}\")\n",
    "print(f\"Validation MSE: {validation_mse:.12f}\")"
   ]
  }
 ],
 "metadata": {
  "kernelspec": {
   "display_name": "Python 3",
   "language": "python",
   "name": "python3"
  },
  "language_info": {
   "codemirror_mode": {
    "name": "ipython",
    "version": 3
   },
   "file_extension": ".py",
   "mimetype": "text/x-python",
   "name": "python",
   "nbconvert_exporter": "python",
   "pygments_lexer": "ipython3",
   "version": "3.11.4"
  }
 },
 "nbformat": 4,
 "nbformat_minor": 5
}
