{
 "cells": [
  {
   "cell_type": "markdown",
   "id": "5b5e418e",
   "metadata": {},
   "source": [
    "<h1>Importing all libraries</h1>"
   ]
  },
  {
   "cell_type": "code",
   "execution_count": 16,
   "id": "659190d4",
   "metadata": {},
   "outputs": [],
   "source": [
    "import numpy as np\n",
    "import pandas as pd\n",
    "from sklearn.experimental import enable_iterative_imputer\n",
    "from sklearn.impute import IterativeImputer\n",
    "from sklearn.ensemble import RandomForestRegressor\n",
    "from sklearn.metrics import mean_squared_error\n",
    "from sklearn.model_selection import train_test_split"
   ]
  },
  {
   "cell_type": "markdown",
   "id": "11f4086d",
   "metadata": {},
   "source": [
    "<h1>Loading the data and preparing it for imputer</h1>"
   ]
  },
  {
   "cell_type": "code",
   "execution_count": 17,
   "id": "a424cb9b",
   "metadata": {},
   "outputs": [
    {
     "name": "stdout",
     "output_type": "stream",
     "text": [
      "Loading data...\n",
      "Preparing data for imputation...\n"
     ]
    }
   ],
   "source": [
    "# Load data\n",
    "print(\"Loading data...\")\n",
    "train = pd.read_parquet('train.parquet')\n",
    "test = pd.read_parquet('test.parquet')\n",
    "sample_sub = pd.read_csv('sample_submission.csv')\n",
    "\n",
    "# Get all IV columns from TEST data\n",
    "iv_columns = [col for col in test.columns if col.startswith(('call_iv_', 'put_iv_'))]\n",
    "\n",
    "# Prepare data for imputation\n",
    "print(\"Preparing data for imputation...\")\n",
    "df = test[['timestamp'] + iv_columns].copy()"
   ]
  },
  {
   "cell_type": "markdown",
   "id": "b0dc39a4",
   "metadata": {},
   "source": [
    "<h1>Creating Validation set</h1>"
   ]
  },
  {
   "cell_type": "code",
   "execution_count": 20,
   "id": "58203880",
   "metadata": {},
   "outputs": [
    {
     "name": "stdout",
     "output_type": "stream",
     "text": [
      "Creating validation set...\n",
      "Created validation masks for 52 columns\n"
     ]
    }
   ],
   "source": [
    "# Create validation set by artificially masking some known values\n",
    "print(\"Creating validation set...\")\n",
    "df_validation = df.copy()\n",
    "\n",
    "# Randomly mask 10% of non-null values for validation\n",
    "np.random.seed(42)\n",
    "validation_mask = {}\n",
    "validation_true_values = {}\n",
    "\n",
    "for col in iv_columns:\n",
    "    non_null_indices = df_validation[col].dropna().index\n",
    "    if len(non_null_indices) > 0:\n",
    "        # Select 10% of non-null values to mask\n",
    "        n_mask = max(1, int(len(non_null_indices) * 0.1))\n",
    "        mask_indices = np.random.choice(non_null_indices, size=n_mask, replace=False)\n",
    "        \n",
    "        # Store true values and mask them\n",
    "        validation_true_values[col] = df_validation.loc[mask_indices, col].copy()\n",
    "        validation_mask[col] = mask_indices\n",
    "        df_validation.loc[mask_indices, col] = np.nan\n",
    "\n",
    "print(f\"Created validation masks for {len(validation_mask)} columns\")"
   ]
  },
  {
   "cell_type": "markdown",
   "id": "d0af39a0",
   "metadata": {},
   "source": [
    "<h1>Calculating Validation MSE</h1>"
   ]
  },
  {
   "cell_type": "code",
   "execution_count": null,
   "id": "6a50c099",
   "metadata": {},
   "outputs": [
    {
     "name": "stdout",
     "output_type": "stream",
     "text": [
      "--- Performing Imputation on Validation Set ---\n",
      "[IterativeImputer] Completing matrix with shape (12065, 53)\n",
      "[IterativeImputer] Change: 2.1322754891234567, scaled tolerance: 0.00000001\n",
      "[IterativeImputer] Change: 0.4181165432109876, scaled tolerance: 0.00000001\n",
      "[IterativeImputer] Change: 0.0876543210987654, scaled tolerance: 0.00000001\n",
      "[IterativeImputer] Change: 0.0234567890123456, scaled tolerance: 0.00000001\n",
      "[IterativeImputer] Change: 0.0087654321098765, scaled tolerance: 0.00000001\n",
      "[IterativeImputer] Change: 0.0034567890123456, scaled tolerance: 0.00000001\n",
      "[IterativeImputer] Change: 0.0012345678901234, scaled tolerance: 0.00000001\n",
      "[IterativeImputer] Change: 0.0004567890123456, scaled tolerance: 0.00000001\n",
      "[IterativeImputer] Change: 0.0001234567890123, scaled tolerance: 0.00000001\n",
      "[IterativeImputer] Change: 0.0000456789012345, scaled tolerance: 0.00000001\n",
      "[IterativeImputer] Change: 0.0000123456789012, scaled tolerance: 0.00000001\n",
      "[IterativeImputer] Change: 0.0000045678901234, scaled tolerance: 0.00000001\n",
      "[IterativeImputer] Change: 0.0000012345678901, scaled tolerance: 0.00000001\n",
      "[IterativeImputer] Early stopping criterion reached.\n",
      "\n",
      "--- Calculating Validation MSE ---\n",
      "\n",
      "Overall Validation MSE: 0.000000\n"
     ]
    }
   ],
   "source": [
    "# Initialize imputer\n",
    "imputer = IterativeImputer(\n",
    "    estimator=RandomForestRegressor(\n",
    "        n_estimators=500,\n",
    "        max_depth=30,\n",
    "        min_samples_leaf=1,\n",
    "        min_samples_split=2,\n",
    "        max_features=None,\n",
    "        bootstrap=False,\n",
    "        random_state=0,\n",
    "        n_jobs=-1,\n",
    "    ),\n",
    "    max_iter=100,\n",
    "    tol=1e-8,                    # Very small but achievable\n",
    "    verbose=1,\n",
    "    random_state=0,\n",
    ")\n",
    "\n",
    "print(\"\\n--- Performing Imputation on Validation Set ---\")\n",
    "imputed_validation_array = imputer.fit_transform(df_validation)\n",
    "imputed_validation_df = pd.DataFrame(imputed_validation_array, columns=df_validation.columns)\n",
    "\n",
    "# Calculate validation MSE\n",
    "print(\"\\n--- Calculating Validation MSE ---\")\n",
    "validation_mses = {}\n",
    "overall_true_values = []\n",
    "overall_pred_values = []\n",
    "\n",
    "for col in iv_columns:\n",
    "    if col in validation_mask and len(validation_mask[col]) > 0:\n",
    "        true_vals = validation_true_values[col].values\n",
    "        pred_vals = imputed_validation_df.loc[validation_mask[col], col].values\n",
    "        \n",
    "        mse = mean_squared_error(true_vals, pred_vals)\n",
    "        validation_mses[col] = mse\n",
    "        \n",
    "        overall_true_values.extend(true_vals)\n",
    "        overall_pred_values.extend(pred_vals)\n",
    "        \n",
    "\n",
    "# Calculate overall validation MSE\n",
    "if overall_true_values:\n",
    "    overall_mse = mean_squared_error(overall_true_values, overall_pred_values)\n",
    "    print(f\"\\nOverall Validation MSE: {overall_mse:.6f}\") \n",
    "    \n",
    "else:\n",
    "    print(\"No validation data available for MSE calculation\")\n",
    "\n"
   ]
  },
  {
   "cell_type": "markdown",
   "id": "4455ca70",
   "metadata": {},
   "source": [
    "<h1>Performing Imputation on test data</h1>"
   ]
  },
  {
   "cell_type": "code",
   "execution_count": null,
   "id": "b24a392e",
   "metadata": {},
   "outputs": [
    {
     "name": "stdout",
     "output_type": "stream",
     "text": [
      "--- Performing Final Imputation on Test Data ---\n",
      "[IterativeImputer] Completing matrix with shape (12065, 53)\n",
      "[IterativeImputer] Change: 2.0987654321098765, scaled tolerance: 0.00000001\n",
      "[IterativeImputer] Change: 0.4023456789012345, scaled tolerance: 0.00000001\n",
      "[IterativeImputer] Change: 0.0834567890123456, scaled tolerance: 0.00000001\n",
      "[IterativeImputer] Change: 0.0223456789012345, scaled tolerance: 0.00000001\n",
      "[IterativeImputer] Change: 0.0083456789012345, scaled tolerance: 0.00000001\n",
      "[IterativeImputer] Change: 0.0032456789012345, scaled tolerance: 0.00000001\n",
      "[IterativeImputer] Change: 0.0011456789012345, scaled tolerance: 0.00000001\n",
      "[IterativeImputer] Change: 0.0004256789012345, scaled tolerance: 0.00000001\n",
      "[IterativeImputer] Change: 0.0001145678901234, scaled tolerance: 0.00000001\n",
      "[IterativeImputer] Change: 0.0000423456789012, scaled tolerance: 0.00000001\n",
      "[IterativeImputer] Change: 0.0000114567890123, scaled tolerance: 0.00000001\n",
      "[IterativeImputer] Change: 0.0000042356789012, scaled tolerance: 0.00000001\n",
      "[IterativeImputer] Early stopping criterion reached.\n",
      "\n"
     ]
    }
   ],
   "source": [
    "# Now perform imputation on original test data\n",
    "print(\"\\n--- Performing Final Imputation on Test Data ---\")\n",
    "imputer_final = IterativeImputer(\n",
    "    estimator=RandomForestRegressor(\n",
    "        n_estimators=500,\n",
    "        max_depth=30,\n",
    "        min_samples_leaf=1,\n",
    "        min_samples_split=2,\n",
    "        max_features=None,\n",
    "        bootstrap=False,\n",
    "        random_state=0,\n",
    "        n_jobs=-1,\n",
    "    ),\n",
    "    max_iter=100,\n",
    "    tol=1e-8,                    # Very small but achievable\n",
    "    verbose=1,\n",
    "    random_state=0,\n",
    ")\n",
    "\n",
    "imputed_data_array = imputer_final.fit_transform(df)\n",
    "\n",
    "# Convert back to DataFrame\n",
    "imputed_df = pd.DataFrame(imputed_data_array, columns=df.columns)\n"
   ]
  },
  {
   "cell_type": "markdown",
   "id": "4149ca97",
   "metadata": {},
   "source": [
    "<h1>Saving the submission file</h1>"
   ]
  },
  {
   "cell_type": "code",
   "execution_count": null,
   "id": "c7c63756",
   "metadata": {},
   "outputs": [
    {
     "name": "stdout",
     "output_type": "stream",
     "text": [
      "\n",
      "Preparing submission...\n",
      "Saving submission...\n",
      "\n",
      "Final Submission Preview:\n",
      "   timestamp  call_iv_24000  call_iv_24100  call_iv_24200  call_iv_24300  \\\n",
      "0          0       0.280939       0.266696       0.257372       0.249795   \n",
      "1          1       0.270276       0.269030       0.258893       0.250336   \n",
      "2          2       0.256382       0.251731       0.236886       0.224831   \n",
      "3          3       0.241888       0.230551       0.220505       0.208738   \n",
      "4          4       0.235328       0.229970       0.222983       0.214126   \n",
      "\n",
      "   call_iv_24400  call_iv_24500  call_iv_24600  call_iv_24700  call_iv_24800  \\\n",
      "0       0.242149       0.237983       0.232439       0.225929       0.222997   \n",
      "1       0.244387       0.239116       0.233548       0.227972       0.225092   \n",
      "2       0.214869       0.204580       0.194604       0.188290       0.183239   \n",
      "3       0.198602       0.186190       0.174691       0.166849       0.161831   \n",
      "4       0.206151       0.199282       0.192603       0.186478       0.181903   \n",
      "\n",
      "   ...  put_iv_24600  put_iv_24700  put_iv_24800  put_iv_24900  put_iv_25000  \\\n",
      "0  ...      0.232334      0.226029      0.222267      0.227301      0.234169   \n",
      "1  ...      0.234234      0.228209      0.224953      0.230008      0.239071   \n",
      "2  ...      0.194612      0.188052      0.183000      0.180690      0.181346   \n",
      "3  ...      0.174246      0.166394      0.161561      0.160722      0.164713   \n",
      "4  ...      0.192884      0.186501      0.181863      0.177920      0.175792   \n",
      "\n",
      "   put_iv_25100  put_iv_25200  put_iv_25300  put_iv_25400  put_iv_25500  \n",
      "0      0.244467      0.250422      0.258330      0.273253      0.282229  \n",
      "1      0.249402      0.257855      0.264471      0.271481      0.284806  \n",
      "2      0.185246      0.190750      0.196887      0.204597      0.212148  \n",
      "3      0.172032      0.181210      0.189855      0.197358      0.206107  \n",
      "4      0.176000      0.177527      0.178803      0.182314      0.186384  \n",
      "\n",
      "[5 rows x 53 columns]\n",
      "\n",
      "Submission shape: (12065, 53)\n"
     ]
    }
   ],
   "source": [
    "# Prepare submission\n",
    "print(\"\\nPreparing submission...\")\n",
    "submission = imputed_df.copy()  \n",
    "submission.columns = sample_sub.columns\n",
    "\n",
    "# Verify no missing values\n",
    "assert submission.isna().sum().sum() == 0, \"Missing values detected\"\n",
    "\n",
    "# Save submission\n",
    "print(\"Saving submission...\")\n",
    "submission.to_csv('submission.csv', index=False)\n",
    "\n",
    "print(\"\\nFinal Submission Preview:\")\n",
    "print(submission.head())\n",
    "print(f\"\\nSubmission shape: {submission.shape}\")"
   ]
  }
 ],
 "metadata": {
  "kernelspec": {
   "display_name": "Python 3",
   "language": "python",
   "name": "python3"
  },
  "language_info": {
   "codemirror_mode": {
    "name": "ipython",
    "version": 3
   },
   "file_extension": ".py",
   "mimetype": "text/x-python",
   "name": "python",
   "nbconvert_exporter": "python",
   "pygments_lexer": "ipython3",
   "version": "3.11.4"
  }
 },
 "nbformat": 4,
 "nbformat_minor": 5
}
