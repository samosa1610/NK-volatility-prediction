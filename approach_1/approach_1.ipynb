{
 "cells": [
  {
   "cell_type": "markdown",
   "id": "831f63e7",
   "metadata": {},
   "source": [
    "<h1>Importing Libraries</h1>"
   ]
  },
  {
   "cell_type": "code",
   "execution_count": 1,
   "id": "b3acfc76",
   "metadata": {},
   "outputs": [],
   "source": [
    "import pandas as pd\n",
    "import numpy as np\n",
    "from scipy.stats import norm\n",
    "from sklearn.model_selection import train_test_split"
   ]
  },
  {
   "cell_type": "markdown",
   "id": "75f16ee0",
   "metadata": {},
   "source": [
    "<h1>Loading Data</h1>"
   ]
  },
  {
   "cell_type": "code",
   "execution_count": 3,
   "id": "66a22d26",
   "metadata": {},
   "outputs": [],
   "source": [
    "# Load data\n",
    "train = pd.read_parquet('../train.parquet')\n",
    "test = pd.read_parquet('../test.parquet')\n",
    "sample_sub = pd.read_csv('../sample_submission.csv')"
   ]
  },
  {
   "cell_type": "markdown",
   "id": "2517a955",
   "metadata": {},
   "source": [
    "<h1>Precomputations</h1>"
   ]
  },
  {
   "cell_type": "code",
   "execution_count": 4,
   "id": "e94eef06",
   "metadata": {},
   "outputs": [],
   "source": [
    "# Pre-calculate global means from training data\n",
    "iv_columns = [col for col in test.columns if col.startswith(('call_iv_', 'put_iv_'))]\n",
    "global_means = {}\n",
    "for col in iv_columns:\n",
    "    if col in train.columns:\n",
    "        global_means[col] = train[col].mean()\n",
    "overall_mean = np.mean(list(global_means.values())) if global_means else 0.2\n",
    "\n",
    "# Create strike dictionary\n",
    "strike_dict = {}\n",
    "for col in iv_columns:\n",
    "    strike = col.split('_')[-1]\n",
    "    if strike not in strike_dict:\n",
    "        strike_dict[strike] = {'call': None, 'put': None}\n",
    "    if col.startswith('call_iv_'):\n",
    "        strike_dict[strike]['call'] = col\n",
    "    else:\n",
    "        strike_dict[strike]['put'] = col"
   ]
  },
  {
   "cell_type": "markdown",
   "id": "888f8515",
   "metadata": {},
   "source": [
    "<h1>Black Scholes function</h1>"
   ]
  },
  {
   "cell_type": "code",
   "execution_count": 5,
   "metadata": {},
   "outputs": [],
   "source": [
    "# Black-Scholes European option price calculator\n",
    "def black_scholes_price(S, K, T, r, sigma, option_type):\n",
    "    d1 = (np.log(S / K) + (r + 0.5 * sigma**2) * T) / (sigma * np.sqrt(T))\n",
    "    d2 = d1 - sigma * np.sqrt(T)\n",
    "    \n",
    "    if option_type == 'call':\n",
    "        price = S * norm.cdf(d1) - K * np.exp(-r * T) * norm.cdf(d2)\n",
    "    else:  # put\n",
    "        price = K * np.exp(-r * T) * norm.cdf(-d2) - S * norm.cdf(-d1)\n",
    "    return price"
   ]
  },
  {
   "cell_type": "markdown",
   "id": "76dc9660",
   "metadata": {},
   "source": [
    "<h1>Implied volatility calculation using Newton-Raphson</h1>"
   ]
  },
  {
   "cell_type": "code",
   "execution_count": 6,
   "id": "e161c841",
   "metadata": {},
   "outputs": [],
   "source": [
    "# Implied volatility calculation using Newton-Raphson\n",
    "def calculate_iv(row, strike, option_type, risk_free_rate=0.05, T=1/52):\n",
    "    S = row['underlying']\n",
    "    K = float(strike)\n",
    "    \n",
    "    # Skip if underlying price is missing\n",
    "    if pd.isna(S) or S <= 0:\n",
    "        return np.nan\n",
    "        \n",
    "    # Get market price from features (anonymized features may contain price info)\n",
    "    # Use X0 as proxy for option price if available\n",
    "    price_col = 'X0' if 'X0' in row else None\n",
    "    if price_col and not pd.isna(row[price_col]):\n",
    "        market_price = row[price_col]\n",
    "    else:\n",
    "        return np.nan\n",
    "        \n",
    "    # Newton-Raphson implementation\n",
    "    sigma = 0.2  # Initial guess\n",
    "    max_iter = 100\n",
    "    tolerance = 1e-8\n",
    "    \n",
    "    for i in range(max_iter):\n",
    "        price = black_scholes_price(S, K, T, risk_free_rate, sigma, option_type)\n",
    "        vega = S * norm.pdf((np.log(S/K) + (risk_free_rate + 0.5*sigma**2)*T) / (sigma*np.sqrt(T))) * np.sqrt(T)\n",
    "        \n",
    "        if vega < 1e-10:\n",
    "            break\n",
    "            \n",
    "        diff = market_price - price\n",
    "        if abs(diff) < tolerance:\n",
    "            break\n",
    "            \n",
    "        sigma += diff / vega\n",
    "        \n",
    "    return sigma"
   ]
  },
  {
   "cell_type": "markdown",
   "id": "42f00e84",
   "metadata": {},
   "source": [
    "<h1>volatility smile fitting</h1>"
   ]
  },
  {
   "cell_type": "code",
   "execution_count": 7,
   "id": "032a5da5",
   "metadata": {},
   "outputs": [],
   "source": [
    "# Enhanced volatility smile fitting\n",
    "def fit_volatility_smile(row, strike_dict, S):\n",
    "    moneyness = []\n",
    "    ivs = []\n",
    "    \n",
    "    for strike, cols in strike_dict.items():\n",
    "        call_col = cols['call']\n",
    "        put_col = cols['put']\n",
    "        \n",
    "        if call_col in row and put_col in row:\n",
    "            # Prefer non-nan IV value\n",
    "            if not pd.isna(row[call_col]):\n",
    "                iv_val = row[call_col]\n",
    "            elif not pd.isna(row[put_col]):\n",
    "                iv_val = row[put_col]\n",
    "            else:\n",
    "                continue\n",
    "                \n",
    "            strike_val = float(strike)\n",
    "            if S > 0:  # Avoid division by zero\n",
    "                m = strike_val / S\n",
    "                moneyness.append(m)\n",
    "                ivs.append(iv_val)\n",
    "    \n",
    "    if len(moneyness) < 3:\n",
    "        return None, None\n",
    "    \n",
    "    # Fit quadratic polynomial\n",
    "    try:\n",
    "        coeff = np.polyfit(moneyness, ivs, 2)\n",
    "        return np.poly1d(coeff), np.mean(ivs)\n",
    "    except:\n",
    "        return None, np.mean(ivs)"
   ]
  },
  {
   "cell_type": "markdown",
   "id": "bd44cb0b",
   "metadata": {},
   "source": [
    "<h1>Prediction Function</h1>"
   ]
  },
  {
   "cell_type": "code",
   "execution_count": 8,
   "id": "7b3898aa",
   "metadata": {},
   "outputs": [],
   "source": [
    "# Main prediction function\n",
    "def predict_iv(data, train_data=train):\n",
    "    data = data.copy()\n",
    "    \n",
    "    # Phase 1: Put-call parity\n",
    "    for strike, cols in strike_dict.items():\n",
    "        call_col = cols['call']\n",
    "        put_col = cols['put']\n",
    "        \n",
    "        if call_col in data.columns and put_col in data.columns:\n",
    "            # Fill calls using puts\n",
    "            call_mask = data[call_col].isna() & data[put_col].notna()\n",
    "            data.loc[call_mask, call_col] = data.loc[call_mask, put_col]\n",
    "            \n",
    "            # Fill puts using calls\n",
    "            put_mask = data[put_col].isna() & data[call_col].notna()\n",
    "            data.loc[put_mask, put_col] = data.loc[put_mask, call_col]\n",
    "    \n",
    "    # Phase 2: Black-Scholes for remaining missing values\n",
    "    for idx, row in data.iterrows():\n",
    "        S = row['underlying']\n",
    "        if pd.isna(S) or S <= 0:\n",
    "            continue\n",
    "            \n",
    "        # Fit volatility smile for current row\n",
    "        poly, mean_iv = fit_volatility_smile(row, strike_dict, S)\n",
    "        \n",
    "        for strike, cols in strike_dict.items():\n",
    "            call_col = cols['call']\n",
    "            put_col = cols['put']\n",
    "            \n",
    "            # Only process if both columns exist\n",
    "            if call_col not in data.columns or put_col not in data.columns:\n",
    "                continue\n",
    "                \n",
    "            # Check if both are still missing\n",
    "            if pd.isna(data.at[idx, call_col]) and pd.isna(data.at[idx, put_col]):\n",
    "                strike_val = float(strike)\n",
    "                \n",
    "                # Try to use volatility smile fit\n",
    "                if poly is not None and S > 0:\n",
    "                    m = strike_val / S\n",
    "                    pred_iv = poly(m)\n",
    "                elif not pd.isna(mean_iv):\n",
    "                    pred_iv = mean_iv\n",
    "                else:\n",
    "                    # Calculate IV using Black-Scholes as fallback\n",
    "                    try:\n",
    "                        pred_iv = calculate_iv(row, strike, 'call')\n",
    "                    except:\n",
    "                        pred_iv = global_means.get(call_col, overall_mean)\n",
    "                \n",
    "                # Assign predicted IV to both call and put\n",
    "                if not pd.isna(pred_iv):\n",
    "                    data.at[idx, call_col] = pred_iv\n",
    "                    data.at[idx, put_col] = pred_iv\n",
    "    \n",
    "    # Phase 3: Global imputation for any remaining missing values\n",
    "    for col in iv_columns:\n",
    "        if col in data.columns:\n",
    "            fill_value = global_means.get(col, overall_mean)\n",
    "            data[col] = data[col].fillna(fill_value)\n",
    "    \n",
    "    return data"
   ]
  },
  {
   "cell_type": "markdown",
   "id": "6feb1ff0",
   "metadata": {},
   "source": [
    "<h1>Validation Score</h1>"
   ]
  },
  {
   "cell_type": "code",
   "execution_count": 9,
   "id": "6d53e1c7",
   "metadata": {},
   "outputs": [
    {
     "name": "stdout",
     "output_type": "stream",
     "text": [
      "Validation MSE: 0.0000000000\n"
     ]
    }
   ],
   "source": [
    "# Create validation split\n",
    "train_df, val_df = train_test_split(train, test_size=0.2, random_state=42)\n",
    "\n",
    "# Apply to validation set\n",
    "val_pred = predict_iv(val_df)\n",
    "\n",
    "# Calculate MSE\n",
    "mse_vals = []\n",
    "for col in iv_columns:\n",
    "    if col in val_df.columns and col in val_pred.columns:\n",
    "        # Only calculate where we have ground truth\n",
    "        valid_mask = val_df[col].notna()\n",
    "        if valid_mask.any():\n",
    "            se = (val_df.loc[valid_mask, col] - val_pred.loc[valid_mask, col]) ** 2\n",
    "            mse_vals.append(se.mean())\n",
    "\n",
    "validation_mse = np.mean(mse_vals) if mse_vals else float('nan')\n",
    "print(f\"Validation MSE: {validation_mse:.10f}\")"
   ]
  },
  {
   "cell_type": "markdown",
   "id": "20bd5a8d",
   "metadata": {},
   "source": [
    "<h1>Test data predictions</h1>"
   ]
  },
  {
   "cell_type": "code",
   "execution_count": 10,
   "id": "49cb1339",
   "metadata": {},
   "outputs": [],
   "source": [
    "# Apply to test set\n",
    "test_pred = predict_iv(test)\n"
   ]
  },
  {
   "cell_type": "markdown",
   "id": "c00c10ce",
   "metadata": {},
   "source": [
    "<h1>Submissions</h1>"
   ]
  },
  {
   "cell_type": "code",
   "execution_count": 11,
   "id": "d5523007",
   "metadata": {},
   "outputs": [
    {
     "name": "stdout",
     "output_type": "stream",
     "text": [
      "\n",
      "Final Submission Preview:\n",
      "   timestamp  call_iv_24000  call_iv_24100  call_iv_24200  call_iv_24300  \\\n",
      "0          0       0.280939       0.268189       0.256631       0.247051   \n",
      "1          1       0.270276       0.263275       0.258893       0.246509   \n",
      "2          2       0.271578       0.251731       0.237865       0.224018   \n",
      "3          3       0.241888       0.232431       0.220505       0.210733   \n",
      "4          4       0.235328       0.229432       0.222983       0.214126   \n",
      "\n",
      "   call_iv_24400  call_iv_24500  call_iv_24600  call_iv_24700  call_iv_24800  \\\n",
      "0       0.242149       0.233827       0.232439       0.228517       0.222997   \n",
      "1       0.244875       0.236401       0.233548       0.228209       0.233722   \n",
      "2       0.214869       0.204580       0.194604       0.188052       0.184880   \n",
      "3       0.198602       0.186190       0.176759       0.166394       0.161561   \n",
      "4       0.203883       0.199485       0.192603       0.187150       0.183532   \n",
      "\n",
      "   ...  put_iv_24600  put_iv_24700  put_iv_24800  put_iv_24900  put_iv_25000  \\\n",
      "0  ...      0.232334      0.228517      0.222997      0.227301      0.234169   \n",
      "1  ...      0.233548      0.228209      0.233722      0.229917      0.240259   \n",
      "2  ...      0.194612      0.188052      0.184880      0.180668      0.181346   \n",
      "3  ...      0.176759      0.166394      0.161561      0.168518      0.169965   \n",
      "4  ...      0.192603      0.187150      0.183532      0.177920      0.179234   \n",
      "\n",
      "   put_iv_25100  put_iv_25200  put_iv_25300  put_iv_25400  put_iv_25500  \n",
      "0      0.245304      0.250422      0.260072      0.272257      0.282229  \n",
      "1      0.249402      0.257819      0.262548      0.273306      0.284057  \n",
      "2      0.185130      0.190750      0.197133      0.204130      0.214360  \n",
      "3      0.172032      0.181429      0.186888      0.196722      0.206107  \n",
      "4      0.176000      0.177836      0.178878      0.182314      0.188761  \n",
      "\n",
      "[5 rows x 53 columns]\n",
      "\n",
      "Missing values: 0\n",
      "Submission shape: (12065, 53)\n",
      "Validation MSE: 0.0000000000\n"
     ]
    }
   ],
   "source": [
    "# Prepare submission\n",
    "submission = test_pred[['timestamp'] + iv_columns].copy()\n",
    "submission.columns = sample_sub.columns\n",
    "submission.to_csv('submission.csv', index=False)\n",
    "\n",
    "# Verify results\n",
    "print(\"\\nFinal Submission Preview:\")\n",
    "print(submission.head())\n",
    "print(f\"\\nMissing values: {submission.isna().sum().sum()}\")\n",
    "print(f\"Submission shape: {submission.shape}\")\n",
    "print(f\"Validation MSE: {validation_mse:.10f}\")"
   ]
  }
 ],
 "metadata": {
  "kernelspec": {
   "display_name": "Python 3",
   "language": "python",
   "name": "python3"
  },
  "language_info": {
   "codemirror_mode": {
    "name": "ipython",
    "version": 3
   },
   "file_extension": ".py",
   "mimetype": "text/x-python",
   "name": "python",
   "nbconvert_exporter": "python",
   "pygments_lexer": "ipython3",
   "version": "3.11.4"
  }
 },
 "nbformat": 4,
 "nbformat_minor": 5
}
